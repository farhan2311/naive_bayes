{
  "nbformat": 4,
  "nbformat_minor": 0,
  "metadata": {
    "colab": {
      "name": "naive_bayes.ipynb",
      "provenance": []
    },
    "kernelspec": {
      "name": "python3",
      "display_name": "Python 3"
    },
    "language_info": {
      "name": "python"
    }
  },
  "cells": [
    {
      "cell_type": "code",
      "metadata": {
        "id": "DMdhtIk1_Vik"
      },
      "source": [
        "import numpy as np\n",
        "import matplotlib.pyplot as plt\n",
        "import pandas as pd"
      ],
      "execution_count": 1,
      "outputs": []
    },
    {
      "cell_type": "code",
      "metadata": {
        "id": "crlsBN8T_vHb"
      },
      "source": [
        "dataset = pd.read_csv('Data Mahasiswa.csv')\n",
        "x = dataset.iloc[1 :, [2, 5]].values\n",
        "y = dataset.iloc[1 :, 1].values"
      ],
      "execution_count": 2,
      "outputs": []
    },
    {
      "cell_type": "code",
      "metadata": {
        "colab": {
          "base_uri": "https://localhost:8080/"
        },
        "id": "AT9oOkH7_NBE",
        "outputId": "404ce764-9072-4822-d558-d8642a960a4f"
      },
      "source": [
        "print(x)"
      ],
      "execution_count": 3,
      "outputs": [
        {
          "output_type": "stream",
          "text": [
            "[['58' '110']\n",
            " ['85' '115']\n",
            " ['67' '116']\n",
            " ['56' '113']\n",
            " ['90' '100']\n",
            " ['46' '102']\n",
            " ['85' '103']\n",
            " ['86' '106']\n",
            " ['67' '108']\n",
            " ['86' '115']\n",
            " ['94' '120']\n",
            " ['95' '113']\n",
            " ['67' '114']\n",
            " ['58' '125']\n",
            " ['76' '110']\n",
            " ['78' '112']\n",
            " ['98' '106']\n",
            " ['78' '103']\n",
            " ['56' '105']\n",
            " ['98' '105']\n",
            " ['78' '106']\n",
            " ['67' '106']\n",
            " ['56' '105']\n",
            " ['59' '116']\n",
            " ['68' '121']\n",
            " ['76' '114']\n",
            " ['57' '109']\n",
            " ['96' '115']\n",
            " ['65' '117']\n",
            " ['76' '102']\n",
            " ['87' '106']\n",
            " ['67' '123']\n",
            " ['78' '112']\n",
            " ['78' '121']\n",
            " ['67' '114']\n",
            " ['78' '115']\n",
            " ['77' '102']\n",
            " ['66' '100']\n",
            " ['88' '115']\n",
            " ['67' '114']\n",
            " ['81' '110']]\n"
          ],
          "name": "stdout"
        }
      ]
    },
    {
      "cell_type": "code",
      "metadata": {
        "id": "soJtaPUt_dqO",
        "colab": {
          "base_uri": "https://localhost:8080/"
        },
        "outputId": "2b3260c8-7828-4716-9c2c-4cb26164137e"
      },
      "source": [
        "print(y)"
      ],
      "execution_count": 4,
      "outputs": [
        {
          "output_type": "stream",
          "text": [
            "['L' 'L' 'L' 'L' 'L' 'L' 'L' 'L' 'L' 'P' 'P' 'P' 'L' 'L' 'L' 'L' 'P' 'L'\n",
            " 'P' 'P' 'L' 'L' 'P' 'L' 'L' 'P' 'L' 'P' 'L' 'P' 'L' 'L' 'P' 'P' 'L' 'L'\n",
            " 'L' 'L' 'L' 'P' 'P']\n"
          ],
          "name": "stdout"
        }
      ]
    },
    {
      "cell_type": "code",
      "metadata": {
        "id": "_rwQ1qf4ASln"
      },
      "source": [
        "from sklearn.preprocessing import LabelEncoder\n",
        "le = LabelEncoder()\n",
        "y = le.fit_transform(y)"
      ],
      "execution_count": 5,
      "outputs": []
    },
    {
      "cell_type": "code",
      "metadata": {
        "colab": {
          "base_uri": "https://localhost:8080/"
        },
        "id": "_JKh8SOPCgO7",
        "outputId": "fa609038-c44b-433d-9d1e-d2b02f7803b1"
      },
      "source": [
        "print(y)"
      ],
      "execution_count": 6,
      "outputs": [
        {
          "output_type": "stream",
          "text": [
            "[0 0 0 0 0 0 0 0 0 1 1 1 0 0 0 0 1 0 1 1 0 0 1 0 0 1 0 1 0 1 0 0 1 1 0 0 0\n",
            " 0 0 1 1]\n"
          ],
          "name": "stdout"
        }
      ]
    },
    {
      "cell_type": "code",
      "metadata": {
        "id": "ljH_V1flCnHd"
      },
      "source": [
        "from sklearn.model_selection import train_test_split\n",
        "x_train, x_test, y_train, y_test = train_test_split(x, y, test_size = 0.25, random_state = 0)"
      ],
      "execution_count": 7,
      "outputs": []
    },
    {
      "cell_type": "code",
      "metadata": {
        "colab": {
          "base_uri": "https://localhost:8080/"
        },
        "id": "cCx279y2C5H4",
        "outputId": "a0eccdcd-b3f3-4879-9469-21fa411dbb46"
      },
      "source": [
        "print(x_train)"
      ],
      "execution_count": 8,
      "outputs": [
        {
          "output_type": "stream",
          "text": [
            "[['78' '106']\n",
            " ['88' '115']\n",
            " ['67' '116']\n",
            " ['81' '110']\n",
            " ['56' '105']\n",
            " ['78' '112']\n",
            " ['56' '105']\n",
            " ['98' '106']\n",
            " ['66' '100']\n",
            " ['67' '108']\n",
            " ['58' '125']\n",
            " ['46' '102']\n",
            " ['78' '103']\n",
            " ['76' '110']\n",
            " ['67' '114']\n",
            " ['86' '106']\n",
            " ['78' '121']\n",
            " ['85' '115']\n",
            " ['57' '109']\n",
            " ['67' '114']\n",
            " ['78' '112']\n",
            " ['68' '121']\n",
            " ['85' '103']\n",
            " ['59' '116']\n",
            " ['67' '106']\n",
            " ['98' '105']\n",
            " ['86' '115']\n",
            " ['67' '114']\n",
            " ['56' '113']\n",
            " ['58' '110']]\n"
          ],
          "name": "stdout"
        }
      ]
    },
    {
      "cell_type": "code",
      "metadata": {
        "colab": {
          "base_uri": "https://localhost:8080/"
        },
        "id": "QmhMxx7LC7aT",
        "outputId": "0be42a4e-a879-48da-a617-17ca3209b0d9"
      },
      "source": [
        "print(x_test)"
      ],
      "execution_count": 9,
      "outputs": [
        {
          "output_type": "stream",
          "text": [
            "[['76' '114']\n",
            " ['78' '115']\n",
            " ['76' '102']\n",
            " ['90' '100']\n",
            " ['94' '120']\n",
            " ['67' '123']\n",
            " ['96' '115']\n",
            " ['95' '113']\n",
            " ['77' '102']\n",
            " ['87' '106']\n",
            " ['65' '117']]\n"
          ],
          "name": "stdout"
        }
      ]
    },
    {
      "cell_type": "code",
      "metadata": {
        "colab": {
          "base_uri": "https://localhost:8080/"
        },
        "id": "k2N5d4IbDDVw",
        "outputId": "ff0ff4cf-6e2e-4352-928f-522292fcb8eb"
      },
      "source": [
        "print(y_train)"
      ],
      "execution_count": 10,
      "outputs": [
        {
          "output_type": "stream",
          "text": [
            "[0 0 0 1 1 0 1 1 0 0 0 0 0 0 0 0 1 0 0 0 1 0 0 0 0 1 1 1 0 0]\n"
          ],
          "name": "stdout"
        }
      ]
    },
    {
      "cell_type": "code",
      "metadata": {
        "colab": {
          "base_uri": "https://localhost:8080/"
        },
        "id": "-sac8IWwDFyr",
        "outputId": "07931a03-80c2-4dc2-c198-3afc5298c2f1"
      },
      "source": [
        "print(y_test)"
      ],
      "execution_count": 11,
      "outputs": [
        {
          "output_type": "stream",
          "text": [
            "[1 0 1 0 1 0 1 1 0 0 0]\n"
          ],
          "name": "stdout"
        }
      ]
    },
    {
      "cell_type": "code",
      "metadata": {
        "id": "VM7LGqmYDddy"
      },
      "source": [
        "from sklearn.preprocessing import StandardScaler\n",
        "sc = StandardScaler()\n",
        "x_train = sc.fit_transform(x_train)\n",
        "x_test = sc.transform(x_test)"
      ],
      "execution_count": 12,
      "outputs": []
    },
    {
      "cell_type": "code",
      "metadata": {
        "colab": {
          "base_uri": "https://localhost:8080/"
        },
        "id": "Ccbsx3o5Dica",
        "outputId": "5dc684e8-dad3-453b-e456-ac861a70aec0"
      },
      "source": [
        "print(x_train)"
      ],
      "execution_count": 13,
      "outputs": [
        {
          "output_type": "stream",
          "text": [
            "[[ 0.47547787 -0.76274901]\n",
            " [ 1.24652306  0.74047897]\n",
            " [-0.37267184  0.9075043 ]\n",
            " [ 0.70679142 -0.09464769]\n",
            " [-1.22082155 -0.92977434]\n",
            " [ 0.47547787  0.23940298]\n",
            " [-1.22082155 -0.92977434]\n",
            " [ 2.01756825 -0.76274901]\n",
            " [-0.44977636 -1.764901  ]\n",
            " [-0.37267184 -0.42869835]\n",
            " [-1.06661251  2.41073228]\n",
            " [-1.99186674 -1.43085034]\n",
            " [ 0.47547787 -1.26382501]\n",
            " [ 0.32126883 -0.09464769]\n",
            " [-0.37267184  0.57345364]\n",
            " [ 1.09231402 -0.76274901]\n",
            " [ 0.47547787  1.74263096]\n",
            " [ 1.0152095   0.74047897]\n",
            " [-1.14371703 -0.26167302]\n",
            " [-0.37267184  0.57345364]\n",
            " [ 0.47547787  0.23940298]\n",
            " [-0.29556732  1.74263096]\n",
            " [ 1.0152095  -1.26382501]\n",
            " [-0.98950799  0.9075043 ]\n",
            " [-0.37267184 -0.76274901]\n",
            " [ 2.01756825 -0.92977434]\n",
            " [ 1.09231402  0.74047897]\n",
            " [-0.37267184  0.57345364]\n",
            " [-1.22082155  0.40642831]\n",
            " [-1.06661251 -0.09464769]]\n"
          ],
          "name": "stdout"
        }
      ]
    },
    {
      "cell_type": "code",
      "metadata": {
        "colab": {
          "base_uri": "https://localhost:8080/"
        },
        "id": "KrVzN5FIDlqJ",
        "outputId": "9dc8bdd0-d649-48ec-a47f-42f21ff5064f"
      },
      "source": [
        "print(x_test)"
      ],
      "execution_count": 14,
      "outputs": [
        {
          "output_type": "stream",
          "text": [
            "[[ 0.32126883  0.57345364]\n",
            " [ 0.47547787  0.74047897]\n",
            " [ 0.32126883 -1.43085034]\n",
            " [ 1.40073209 -1.764901  ]\n",
            " [ 1.70915017  1.57560563]\n",
            " [-0.37267184  2.07668162]\n",
            " [ 1.86335921  0.74047897]\n",
            " [ 1.78625469  0.40642831]\n",
            " [ 0.39837335 -1.43085034]\n",
            " [ 1.16941854 -0.76274901]\n",
            " [-0.52688088  1.07452963]]\n"
          ],
          "name": "stdout"
        }
      ]
    },
    {
      "cell_type": "code",
      "metadata": {
        "colab": {
          "base_uri": "https://localhost:8080/"
        },
        "id": "YyDSnu2cDr_I",
        "outputId": "98a94cd7-fcac-4f60-8e44-16582b99d9c6"
      },
      "source": [
        "from sklearn.naive_bayes import GaussianNB\n",
        "classifier = GaussianNB()\n",
        "classifier.fit(x_train, y_train)"
      ],
      "execution_count": 15,
      "outputs": [
        {
          "output_type": "execute_result",
          "data": {
            "text/plain": [
              "GaussianNB(priors=None, var_smoothing=1e-09)"
            ]
          },
          "metadata": {
            "tags": []
          },
          "execution_count": 15
        }
      ]
    },
    {
      "cell_type": "code",
      "metadata": {
        "id": "Sl6pJy--Dwee"
      },
      "source": [
        "y_pred = classifier.predict(x_test)"
      ],
      "execution_count": 16,
      "outputs": []
    },
    {
      "cell_type": "code",
      "metadata": {
        "colab": {
          "base_uri": "https://localhost:8080/"
        },
        "id": "Pl3ZrqQ5Dz-L",
        "outputId": "da5a61d2-0af2-4688-edc1-ddec7ca3cbf0"
      },
      "source": [
        "from sklearn.metrics import confusion_matrix\n",
        "cm = confusion_matrix(y_test, y_pred)\n",
        "print(cm)"
      ],
      "execution_count": 17,
      "outputs": [
        {
          "output_type": "stream",
          "text": [
            "[[5 1]\n",
            " [2 3]]\n"
          ],
          "name": "stdout"
        }
      ]
    },
    {
      "cell_type": "code",
      "metadata": {
        "colab": {
          "base_uri": "https://localhost:8080/",
          "height": 349
        },
        "id": "0YMh_oolD0Uy",
        "outputId": "336ccd8f-50f6-4beb-d3e8-4a433bb7b57c"
      },
      "source": [
        "from matplotlib.colors import ListedColormap\n",
        "x_set, y_set = x_train, y_train\n",
        "X1, X2 = np.meshgrid(np.arange(start = x_set[:, 0].min() - 1, stop = x_set[:, 0].max() + 1, step = 0.01),\n",
        "                     np.arange(start = x_set[:, 1].min() - 1, stop = x_set[:, 1].max() + 1, step = 0.01))\n",
        "plt.contourf(X1, X2, classifier.predict(np.array([X1.ravel(), X2.ravel()]).T).reshape(X1.shape),\n",
        "            alpha = 0.75, cmap = ListedColormap(('red', 'green')))\n",
        "plt.xlim(X1.min(), X1.max())\n",
        "plt.ylim(X2.min(), X2.max())\n",
        "for i, j in enumerate(np.unique(y_set)):\n",
        "  plt.scatter(x_set[y_set == j, 0], x_set[y_set == j, 1],\n",
        "              c = ListedColormap(('red', 'green'))(i), label = j)\n",
        "plt.title('Klasifikasi Data dengan Naive Bayes (Training set)')\n",
        "plt.xlabel('IQ')\n",
        "plt.ylabel('Nilai Reading')\n",
        "plt.legend()\n",
        "plt.show()"
      ],
      "execution_count": 18,
      "outputs": [
        {
          "output_type": "stream",
          "text": [
            "*c* argument looks like a single numeric RGB or RGBA sequence, which should be avoided as value-mapping will have precedence in case its length matches with *x* & *y*.  Please use the *color* keyword-argument or provide a 2-D array with a single row if you intend to specify the same RGB or RGBA value for all points.\n",
            "*c* argument looks like a single numeric RGB or RGBA sequence, which should be avoided as value-mapping will have precedence in case its length matches with *x* & *y*.  Please use the *color* keyword-argument or provide a 2-D array with a single row if you intend to specify the same RGB or RGBA value for all points.\n"
          ],
          "name": "stderr"
        },
        {
          "output_type": "display_data",
          "data": {
            "image/png": "[encoded data removed]",
            "text/plain": [
              "<Figure size 432x288 with 1 Axes>"
            ]
          },
          "metadata": {
            "tags": [],
            "needs_background": "light"
          }
        }
      ]
    },
    {
      "cell_type": "code",
      "metadata": {
        "colab": {
          "base_uri": "https://localhost:8080/",
          "height": 349
        },
        "id": "X-6q9sS7D3ns",
        "outputId": "aa164219-729e-40d1-f354-c2a68755d33d"
      },
      "source": [
        "from matplotlib.colors import ListedColormap\n",
        "x_set, y_set = x_test, y_test\n",
        "X1, X2 = np.meshgrid(np.arange(start = x_set[:, 0].min() - 1, stop = x_set[:, 0].max() + 1, step = 0.01),\n",
        "                     np.arange(start = x_set[:, 1].min() - 1, stop = x_set[:, 1].max() + 1, step = 0.01))\n",
        "plt.contourf(X1, X2, classifier.predict(np.array([X1.ravel(), X2.ravel()]).T).reshape(X1.shape),\n",
        "            alpha = 0.75, cmap = ListedColormap(('red', 'green')))\n",
        "plt.xlim(X1.min(), X1.max())\n",
        "plt.ylim(X2.min(), X2.max())\n",
        "for i, j in enumerate(np.unique(y_set)):\n",
        "  plt.scatter(x_set[y_set == j, 0], x_set[y_set == j, 1],\n",
        "              c = ListedColormap(('red', 'green'))(i), label = j)\n",
        "plt.title('Klasifikasi Data dengan Naive Bayes (Test set)')\n",
        "plt.xlabel('IQ')\n",
        "plt.ylabel('Nilai Reading')\n",
        "plt.legend()\n",
        "plt.show()"
      ],
      "execution_count": 19,
      "outputs": [
        {
          "output_type": "stream",
          "text": [
            "*c* argument looks like a single numeric RGB or RGBA sequence, which should be avoided as value-mapping will have precedence in case its length matches with *x* & *y*.  Please use the *color* keyword-argument or provide a 2-D array with a single row if you intend to specify the same RGB or RGBA value for all points.\n",
            "*c* argument looks like a single numeric RGB or RGBA sequence, which should be avoided as value-mapping will have precedence in case its length matches with *x* & *y*.  Please use the *color* keyword-argument or provide a 2-D array with a single row if you intend to specify the same RGB or RGBA value for all points.\n"
          ],
          "name": "stderr"
        },
        {
          "output_type": "display_data",
          "data": {
            "image/png": "[encoded data removed]",
            "text/plain": [
              "<Figure size 432x288 with 1 Axes>"
            ]
          },
          "metadata": {
            "tags": [],
            "needs_background": "light"
          }
        }
      ]
    }
  ]
}